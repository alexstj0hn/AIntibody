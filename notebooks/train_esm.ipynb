{
 "cells": [
  {
   "cell_type": "code",
   "execution_count": null,
   "id": "3bf5c007-665e-4954-9b8f-c262d2e3cfd3",
   "metadata": {},
   "outputs": [],
   "source": [
    "import sagemaker\n",
    "from sagemaker.huggingface import HuggingFace\n",
    "\n",
    "# Replace with your execution role ARN.\n",
    "role = sagemaker.get_execution_role()\n",
    "\n",
    "# Create a PyTorch estimator with the checkpoint hyperparameter\n",
    "estimator = HuggingFace(\n",
    "    entry_point=\"train_esm.py\",      # your training script\n",
    "    source_dir=\"scripts/\",           # directory containing train_esm.py\n",
    "    role=role,\n",
    "    instance_count=1,\n",
    "    instance_type=\"ml.p3.2xlarge\",   # GPU instance\n",
    "    hyperparameters={\n",
    "        \"checkpoint\": \"facebook/esm2_t30_150M_UR50D\"  # Pass your desired checkpoint here\n",
    "    },\n",
    "    base_job_name=\"esm-mlm-cdr-pretraining\",\n",
    "    py_version=\"py310\",\n",
    "    pytorch_version=\"2.1\",\n",
    "    transformers_version=\"4.36\",\n",
    "    volume_size=100,\n",
    "    output_path=\"s3://aintibodychallenge/challenge_2\",\n",
    ")\n",
    "\n",
    "# Example training data input\n",
    "train_input = \"s3://aintibodychallenge/challenge_2\"\n",
    "\n",
    "# Launch the training job\n",
    "estimator.fit(\n",
    "    inputs={\"train\": train_input},\n",
    "    logs='All'    # Stream logs in the notebook cell\n",
    ")\n"
   ]
  }
 ],
 "metadata": {
  "kernelspec": {
   "display_name": "Python 3 (ipykernel)",
   "language": "python",
   "name": "python3"
  },
  "language_info": {
   "codemirror_mode": {
    "name": "ipython",
    "version": 3
   },
   "file_extension": ".py",
   "mimetype": "text/x-python",
   "name": "python",
   "nbconvert_exporter": "python",
   "pygments_lexer": "ipython3",
   "version": "3.11.11"
  }
 },
 "nbformat": 4,
 "nbformat_minor": 5
}
