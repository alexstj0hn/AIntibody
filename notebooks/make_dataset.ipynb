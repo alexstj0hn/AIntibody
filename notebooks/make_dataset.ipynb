{
 "cells": [
  {
   "cell_type": "code",
   "execution_count": 9,
   "metadata": {},
   "outputs": [],
   "source": [
    "import csv\n",
    "import random\n",
    "\n",
    "def create_masked_csv(\n",
    "    input_csv_path: str,\n",
    "    separator: str = \":\",\n",
    "):\n",
    "    \"\"\"\n",
    "    \"\"\"\n",
    "\n",
    "    with open(input_csv_path, \"r\", newline=\"\", encoding=\"utf-8\") as infile:\n",
    "        reader = csv.DictReader(infile)\n",
    "        rows = list(reader)\n",
    "\n",
    "    # Shuffle the rows randomly\n",
    "\n",
    "    # Split the dataset into validation (20%) and training (80%)\n",
    "    split_idx = len(rows) // 5\n",
    "    all_rows = []\n",
    "    for row in rows:\n",
    "        all_rows.extend([row] * int(row['Redundancy']))\n",
    "    rows = all_rows\n",
    "    random.shuffle(rows)\n",
    "\n",
    "    validation_rows = rows[:split_idx]\n",
    "    training_rows = rows[split_idx:]\n",
    "\n",
    "    fieldnames = [\"id\", \"sequence\"]\n",
    "\n",
    "    # Write validation file\n",
    "    with open(\"val.csv\", \"w\", newline=\"\", encoding=\"utf-8\") as val_outfile:\n",
    "        writer = csv.DictWriter(val_outfile, fieldnames=fieldnames)\n",
    "        writer.writeheader()\n",
    "        for row_id, row in enumerate(validation_rows):\n",
    "            writer.writerow({\n",
    "                \"id\": f\"antibody_{row_id}\",\n",
    "                \"sequence\": f\"{row['sequence_aa_heavy']}{separator}{row['sequence_aa_light']}\"\n",
    "            })\n",
    "\n",
    "    # Write training file\n",
    "    with open(\"train.csv\", \"w\", newline=\"\", encoding=\"utf-8\") as train_outfile:\n",
    "        writer = csv.DictWriter(train_outfile, fieldnames=fieldnames)\n",
    "        writer.writeheader()\n",
    "        for row_id, row in enumerate(training_rows, start=len(validation_rows)):\n",
    "            writer.writerow({\n",
    "                \"id\": f\"antibody_{row_id}\",\n",
    "                \"sequence\": f\"{row['sequence_aa_heavy']}{separator}{row['sequence_aa_light']}\"\n",
    "            })\n",
    "\n",
    "# Run the function\n",
    "create_masked_csv(\"comp_1.csv\", separator=\":\")\n"
   ]
  }
 ],
 "metadata": {
  "kernelspec": {
   "display_name": "aintibody",
   "language": "python",
   "name": "python3"
  },
  "language_info": {
   "codemirror_mode": {
    "name": "ipython",
    "version": 3
   },
   "file_extension": ".py",
   "mimetype": "text/x-python",
   "name": "python",
   "nbconvert_exporter": "python",
   "pygments_lexer": "ipython3",
   "version": "3.9.21"
  }
 },
 "nbformat": 4,
 "nbformat_minor": 2
}
